{
 "cells": [
  {
   "cell_type": "code",
   "execution_count": 4,
   "id": "fed84921",
   "metadata": {},
   "outputs": [],
   "source": [
    "import numpy as np"
   ]
  },
  {
   "cell_type": "code",
   "execution_count": 68,
   "id": "59689c1d",
   "metadata": {},
   "outputs": [
    {
     "data": {
      "text/plain": [
       "'1.20.1'"
      ]
     },
     "execution_count": 68,
     "metadata": {},
     "output_type": "execute_result"
    }
   ],
   "source": [
    "np.__version__"
   ]
  },
  {
   "cell_type": "code",
   "execution_count": 69,
   "id": "e70f64d5",
   "metadata": {},
   "outputs": [
    {
     "name": "stdout",
     "output_type": "stream",
     "text": [
      "blas_mkl_info:\n",
      "    libraries = ['mkl_rt']\n",
      "    library_dirs = ['C:/Users/Rana/anaconda3\\\\Library\\\\lib']\n",
      "    define_macros = [('SCIPY_MKL_H', None), ('HAVE_CBLAS', None)]\n",
      "    include_dirs = ['C:/Users/Rana/anaconda3\\\\Library\\\\include']\n",
      "blas_opt_info:\n",
      "    libraries = ['mkl_rt']\n",
      "    library_dirs = ['C:/Users/Rana/anaconda3\\\\Library\\\\lib']\n",
      "    define_macros = [('SCIPY_MKL_H', None), ('HAVE_CBLAS', None)]\n",
      "    include_dirs = ['C:/Users/Rana/anaconda3\\\\Library\\\\include']\n",
      "lapack_mkl_info:\n",
      "    libraries = ['mkl_rt']\n",
      "    library_dirs = ['C:/Users/Rana/anaconda3\\\\Library\\\\lib']\n",
      "    define_macros = [('SCIPY_MKL_H', None), ('HAVE_CBLAS', None)]\n",
      "    include_dirs = ['C:/Users/Rana/anaconda3\\\\Library\\\\include']\n",
      "lapack_opt_info:\n",
      "    libraries = ['mkl_rt']\n",
      "    library_dirs = ['C:/Users/Rana/anaconda3\\\\Library\\\\lib']\n",
      "    define_macros = [('SCIPY_MKL_H', None), ('HAVE_CBLAS', None)]\n",
      "    include_dirs = ['C:/Users/Rana/anaconda3\\\\Library\\\\include']\n"
     ]
    }
   ],
   "source": [
    "np.show_config()"
   ]
  },
  {
   "cell_type": "code",
   "execution_count": 70,
   "id": "5ed244df",
   "metadata": {},
   "outputs": [
    {
     "data": {
      "text/plain": [
       "array([0., 0., 0., 0., 0., 0., 0., 0., 0., 0.])"
      ]
     },
     "execution_count": 70,
     "metadata": {},
     "output_type": "execute_result"
    }
   ],
   "source": [
    "np.zeros(10)"
   ]
  },
  {
   "cell_type": "code",
   "execution_count": 71,
   "id": "1729a2e6",
   "metadata": {},
   "outputs": [
    {
     "name": "stdout",
     "output_type": "stream",
     "text": [
      "[1 2 3]\n",
      "[[1 2]\n",
      " [3 4]]\n"
     ]
    }
   ],
   "source": [
    "a = np.array([1,2,3])\n",
    "b = np.array([[1,2],[3,4]])\n",
    "print(a)\n",
    "print(b)"
   ]
  },
  {
   "cell_type": "code",
   "execution_count": 72,
   "id": "4a74cc64",
   "metadata": {},
   "outputs": [
    {
     "data": {
      "text/plain": [
       "3"
      ]
     },
     "execution_count": 72,
     "metadata": {},
     "output_type": "execute_result"
    }
   ],
   "source": [
    "a.size"
   ]
  },
  {
   "cell_type": "code",
   "execution_count": 73,
   "id": "b9a36b99",
   "metadata": {},
   "outputs": [
    {
     "data": {
      "text/plain": [
       "4"
      ]
     },
     "execution_count": 73,
     "metadata": {},
     "output_type": "execute_result"
    }
   ],
   "source": [
    "b.size"
   ]
  },
  {
   "cell_type": "code",
   "execution_count": 74,
   "id": "8b3171cd",
   "metadata": {},
   "outputs": [
    {
     "data": {
      "text/plain": [
       "<function numpy.info(object=None, maxwidth=76, output=<ipykernel.iostream.OutStream object at 0x0000020DA41CEBB0>, toplevel='numpy')>"
      ]
     },
     "execution_count": 74,
     "metadata": {},
     "output_type": "execute_result"
    }
   ],
   "source": [
    "np.info"
   ]
  },
  {
   "cell_type": "code",
   "execution_count": 75,
   "id": "c6b2ff96",
   "metadata": {},
   "outputs": [
    {
     "name": "stdout",
     "output_type": "stream",
     "text": [
      "[0. 0. 0. 0. 1. 0. 0. 0. 0. 0.]\n"
     ]
    }
   ],
   "source": [
    "a = np.zeros(10)\n",
    "a[4] = 1\n",
    "print(a)"
   ]
  },
  {
   "cell_type": "code",
   "execution_count": 76,
   "id": "62ab324d",
   "metadata": {},
   "outputs": [
    {
     "data": {
      "text/plain": [
       "array([10, 11, 12, 13, 14, 15, 16, 17, 18, 19, 20, 21, 22, 23, 24, 25, 26,\n",
       "       27, 28, 29, 30, 31, 32, 33, 34, 35, 36, 37, 38, 39, 40, 41, 42, 43,\n",
       "       44, 45, 46, 47, 48, 49])"
      ]
     },
     "execution_count": 76,
     "metadata": {},
     "output_type": "execute_result"
    }
   ],
   "source": [
    "np.arange(10,50)"
   ]
  },
  {
   "cell_type": "code",
   "execution_count": 77,
   "id": "90b586bc",
   "metadata": {},
   "outputs": [
    {
     "name": "stdout",
     "output_type": "stream",
     "text": [
      "[0 1 2 3 4 5 6 7 8 9]\n",
      "[9 8 7 6 5 4 3 2 1 0]\n"
     ]
    }
   ],
   "source": [
    "a = np.arange(10)\n",
    "print(a)\n",
    "a = a[::-1]\n",
    "print(a)"
   ]
  },
  {
   "cell_type": "code",
   "execution_count": 78,
   "id": "3ae6f5b3",
   "metadata": {},
   "outputs": [
    {
     "name": "stdout",
     "output_type": "stream",
     "text": [
      "[[0 1 2]\n",
      " [3 4 5]\n",
      " [6 7 8]]\n"
     ]
    }
   ],
   "source": [
    "a = np.arange(9).reshape(3,3)\n",
    "print(a)"
   ]
  },
  {
   "cell_type": "code",
   "execution_count": 79,
   "id": "73db69ab",
   "metadata": {},
   "outputs": [
    {
     "name": "stdout",
     "output_type": "stream",
     "text": [
      "[1 2 4 5]\n"
     ]
    }
   ],
   "source": [
    "a = np.array([1,2,0,4,0,5])\n",
    "print(a[np.nonzero(a)])"
   ]
  },
  {
   "cell_type": "code",
   "execution_count": 80,
   "id": "1b9e1175",
   "metadata": {},
   "outputs": [
    {
     "data": {
      "text/plain": [
       "array([[1., 0., 0.],\n",
       "       [0., 1., 0.],\n",
       "       [0., 0., 1.]])"
      ]
     },
     "execution_count": 80,
     "metadata": {},
     "output_type": "execute_result"
    }
   ],
   "source": [
    "np.eye(3)"
   ]
  },
  {
   "cell_type": "code",
   "execution_count": 81,
   "id": "13986c90",
   "metadata": {},
   "outputs": [
    {
     "data": {
      "text/plain": [
       "array([[[0.90939985, 0.30525559, 0.40287162],\n",
       "        [0.26483071, 0.15676282, 0.8579007 ],\n",
       "        [0.68854263, 0.34004299, 0.13033248]],\n",
       "\n",
       "       [[0.99917685, 0.92636735, 0.312     ],\n",
       "        [0.84330819, 0.45308805, 0.60469265],\n",
       "        [0.61438471, 0.66607743, 0.14176991]],\n",
       "\n",
       "       [[0.9397749 , 0.80414872, 0.72145528],\n",
       "        [0.32663007, 0.62444562, 0.52713571],\n",
       "        [0.39126489, 0.08506476, 0.12890193]]])"
      ]
     },
     "execution_count": 81,
     "metadata": {},
     "output_type": "execute_result"
    }
   ],
   "source": [
    "np.random.random((3,3,3))"
   ]
  },
  {
   "cell_type": "code",
   "execution_count": 82,
   "id": "22bb436f",
   "metadata": {},
   "outputs": [
    {
     "name": "stdout",
     "output_type": "stream",
     "text": [
      "[[8.17129922e-01 6.15684591e-01 5.53545802e-01 7.02346256e-02\n",
      "  1.14385648e-01 4.73932359e-01 5.07484434e-02 9.71530788e-01\n",
      "  4.06135633e-01 4.05035540e-01]\n",
      " [1.03836359e-01 5.09233696e-01 2.54598699e-01 2.93932240e-01\n",
      "  6.62700588e-01 3.27212741e-01 6.91543138e-01 7.15857695e-01\n",
      "  8.15690347e-01 7.60539570e-01]\n",
      " [5.16558693e-01 2.80696109e-01 1.55505807e-01 7.40407400e-01\n",
      "  4.15576395e-01 8.36374834e-01 7.75282229e-01 1.68943720e-02\n",
      "  8.55056122e-01 4.03327994e-01]\n",
      " [1.82324291e-01 6.85147448e-02 6.60577089e-01 8.82544916e-01\n",
      "  1.24699097e-01 1.59794079e-01 1.76144461e-01 5.40210328e-01\n",
      "  2.97841337e-01 7.12539763e-01]\n",
      " [9.87960780e-01 7.29645503e-01 2.34121873e-01 1.55007709e-01\n",
      "  3.06502387e-04 3.15958439e-01 6.52191472e-01 1.79988978e-01\n",
      "  7.16217911e-01 9.41387528e-01]\n",
      " [7.35996539e-01 2.82162339e-01 4.18248511e-01 1.36173788e-02\n",
      "  9.51448035e-01 1.01184160e-01 7.46180337e-01 9.06484973e-01\n",
      "  4.06062889e-01 6.78040265e-01]\n",
      " [4.24452218e-01 7.11967583e-01 8.69915041e-02 5.33186597e-01\n",
      "  3.36654991e-01 7.47942189e-01 7.81444631e-01 7.70830573e-01\n",
      "  1.32365366e-01 2.07480263e-01]\n",
      " [3.65459475e-02 3.27008701e-01 6.12803650e-01 5.46743010e-01\n",
      "  1.37293305e-01 5.37181180e-01 1.18437206e-01 9.58194111e-02\n",
      "  8.52407607e-01 2.26850865e-01]\n",
      " [4.40583419e-01 6.59858993e-01 3.17043284e-01 2.17434293e-01\n",
      "  6.62636057e-01 5.10961856e-01 5.10333225e-01 2.53022728e-01\n",
      "  1.72222748e-01 2.04167784e-01]\n",
      " [3.47504389e-01 2.48818450e-01 7.89015777e-01 9.18348831e-01\n",
      "  7.60921891e-01 2.48564843e-01 6.02435169e-01 5.34997042e-02\n",
      "  2.44417180e-01 1.03660432e-01]]\n",
      "0.0003065023869885941\n",
      "0.9879607797277817\n"
     ]
    }
   ],
   "source": [
    "matrix = np.random.rand(10,10)\n",
    "print(matrix)\n",
    "print(matrix.min())\n",
    "print(matrix.max())"
   ]
  },
  {
   "cell_type": "markdown",
   "id": "22bbe43d",
   "metadata": {},
   "source": [
    "a = np.random.rand(30)"
   ]
  },
  {
   "cell_type": "code",
   "execution_count": 83,
   "id": "b1f02097",
   "metadata": {},
   "outputs": [
    {
     "name": "stdout",
     "output_type": "stream",
     "text": [
      "[0.85741505 0.676418   0.9386117  0.09078388 0.91666694 0.87516578\n",
      " 0.74040827 0.21589462 0.12264475 0.83268983 0.44245464 0.76544464\n",
      " 0.66140921 0.89419397 0.88340469 0.07550451 0.93223604 0.78263732\n",
      " 0.22731738 0.22963556 0.95529614 0.75606225 0.15937084 0.06706466\n",
      " 0.23948978 0.77573187 0.16141101 0.87442401 0.22766409 0.30089505]\n"
     ]
    }
   ],
   "source": [
    "a = np.random.rand(30)\n",
    "print(a)"
   ]
  },
  {
   "cell_type": "code",
   "execution_count": 84,
   "id": "496d958d",
   "metadata": {},
   "outputs": [
    {
     "data": {
      "text/plain": [
       "0.5559448827864432"
      ]
     },
     "execution_count": 84,
     "metadata": {},
     "output_type": "execute_result"
    }
   ],
   "source": [
    "a.mean()"
   ]
  },
  {
   "cell_type": "code",
   "execution_count": 2,
   "id": "0e6e119d",
   "metadata": {},
   "outputs": [
    {
     "name": "stdout",
     "output_type": "stream",
     "text": [
      "a\n"
     ]
    }
   ],
   "source": [
    "print(\"a\")"
   ]
  },
  {
   "cell_type": "code",
   "execution_count": 12,
   "id": "b0bc8673",
   "metadata": {},
   "outputs": [
    {
     "name": "stdout",
     "output_type": "stream",
     "text": [
      "[[1. 1. 1. 1. 1. 1. 1. 1.]\n",
      " [1. 1. 1. 1. 1. 1. 1. 1.]\n",
      " [1. 1. 1. 1. 1. 1. 1. 1.]\n",
      " [1. 1. 1. 1. 1. 1. 1. 1.]\n",
      " [1. 1. 1. 1. 1. 1. 1. 1.]\n",
      " [1. 1. 1. 1. 1. 1. 1. 1.]\n",
      " [1. 1. 1. 1. 1. 1. 1. 1.]\n",
      " [1. 1. 1. 1. 1. 1. 1. 1.]]\n",
      "[[1. 1. 1. 1. 1. 1. 1. 1.]\n",
      " [1. 0. 0. 0. 0. 0. 0. 1.]\n",
      " [1. 0. 0. 0. 0. 0. 0. 1.]\n",
      " [1. 0. 0. 0. 0. 0. 0. 1.]\n",
      " [1. 0. 0. 0. 0. 0. 0. 1.]\n",
      " [1. 0. 0. 0. 0. 0. 0. 1.]\n",
      " [1. 0. 0. 0. 0. 0. 0. 1.]\n",
      " [1. 1. 1. 1. 1. 1. 1. 1.]]\n"
     ]
    }
   ],
   "source": [
    "a = np.ones((8,8))\n",
    "print(a)\n",
    "a[1:-1,1:-1] = 0\n",
    "print(a)"
   ]
  },
  {
   "cell_type": "code",
   "execution_count": null,
   "id": "6e2fedda",
   "metadata": {},
   "outputs": [],
   "source": []
  }
 ],
 "metadata": {
  "kernelspec": {
   "display_name": "Python 3",
   "language": "python",
   "name": "python3"
  },
  "language_info": {
   "codemirror_mode": {
    "name": "ipython",
    "version": 3
   },
   "file_extension": ".py",
   "mimetype": "text/x-python",
   "name": "python",
   "nbconvert_exporter": "python",
   "pygments_lexer": "ipython3",
   "version": "3.8.8"
  }
 },
 "nbformat": 4,
 "nbformat_minor": 5
}
