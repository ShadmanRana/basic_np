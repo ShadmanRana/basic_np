{
 "cells": [
  {
   "cell_type": "code",
   "execution_count": 1,
   "id": "fed84921",
   "metadata": {},
   "outputs": [],
   "source": [
    "import numpy as np"
   ]
  },
  {
   "cell_type": "code",
   "execution_count": 126,
   "id": "59689c1d",
   "metadata": {},
   "outputs": [
    {
     "data": {
      "text/plain": [
       "'1.20.1'"
      ]
     },
     "execution_count": 126,
     "metadata": {},
     "output_type": "execute_result"
    }
   ],
   "source": [
    "np.__version__"
   ]
  },
  {
   "cell_type": "code",
   "execution_count": 127,
   "id": "e70f64d5",
   "metadata": {},
   "outputs": [
    {
     "name": "stdout",
     "output_type": "stream",
     "text": [
      "blas_mkl_info:\n",
      "    libraries = ['mkl_rt']\n",
      "    library_dirs = ['C:/Users/Rana/anaconda3\\\\Library\\\\lib']\n",
      "    define_macros = [('SCIPY_MKL_H', None), ('HAVE_CBLAS', None)]\n",
      "    include_dirs = ['C:/Users/Rana/anaconda3\\\\Library\\\\include']\n",
      "blas_opt_info:\n",
      "    libraries = ['mkl_rt']\n",
      "    library_dirs = ['C:/Users/Rana/anaconda3\\\\Library\\\\lib']\n",
      "    define_macros = [('SCIPY_MKL_H', None), ('HAVE_CBLAS', None)]\n",
      "    include_dirs = ['C:/Users/Rana/anaconda3\\\\Library\\\\include']\n",
      "lapack_mkl_info:\n",
      "    libraries = ['mkl_rt']\n",
      "    library_dirs = ['C:/Users/Rana/anaconda3\\\\Library\\\\lib']\n",
      "    define_macros = [('SCIPY_MKL_H', None), ('HAVE_CBLAS', None)]\n",
      "    include_dirs = ['C:/Users/Rana/anaconda3\\\\Library\\\\include']\n",
      "lapack_opt_info:\n",
      "    libraries = ['mkl_rt']\n",
      "    library_dirs = ['C:/Users/Rana/anaconda3\\\\Library\\\\lib']\n",
      "    define_macros = [('SCIPY_MKL_H', None), ('HAVE_CBLAS', None)]\n",
      "    include_dirs = ['C:/Users/Rana/anaconda3\\\\Library\\\\include']\n"
     ]
    }
   ],
   "source": [
    "np.show_config()"
   ]
  },
  {
   "cell_type": "code",
   "execution_count": 128,
   "id": "5ed244df",
   "metadata": {},
   "outputs": [
    {
     "data": {
      "text/plain": [
       "array([0., 0., 0., 0., 0., 0., 0., 0., 0., 0.])"
      ]
     },
     "execution_count": 128,
     "metadata": {},
     "output_type": "execute_result"
    }
   ],
   "source": [
    "np.zeros(10)"
   ]
  },
  {
   "cell_type": "code",
   "execution_count": 129,
   "id": "1729a2e6",
   "metadata": {},
   "outputs": [
    {
     "name": "stdout",
     "output_type": "stream",
     "text": [
      "[1 2 3]\n",
      "[[1 2]\n",
      " [3 4]]\n"
     ]
    }
   ],
   "source": [
    "a = np.array([1,2,3])\n",
    "b = np.array([[1,2],[3,4]])\n",
    "print(a)\n",
    "print(b)"
   ]
  },
  {
   "cell_type": "code",
   "execution_count": 130,
   "id": "4a74cc64",
   "metadata": {},
   "outputs": [
    {
     "data": {
      "text/plain": [
       "3"
      ]
     },
     "execution_count": 130,
     "metadata": {},
     "output_type": "execute_result"
    }
   ],
   "source": [
    "a.size"
   ]
  },
  {
   "cell_type": "code",
   "execution_count": 131,
   "id": "b9a36b99",
   "metadata": {},
   "outputs": [
    {
     "data": {
      "text/plain": [
       "4"
      ]
     },
     "execution_count": 131,
     "metadata": {},
     "output_type": "execute_result"
    }
   ],
   "source": [
    "b.size"
   ]
  },
  {
   "cell_type": "code",
   "execution_count": 132,
   "id": "8b3171cd",
   "metadata": {},
   "outputs": [
    {
     "data": {
      "text/plain": [
       "<function numpy.info(object=None, maxwidth=76, output=<ipykernel.iostream.OutStream object at 0x0000022A1809FBB0>, toplevel='numpy')>"
      ]
     },
     "execution_count": 132,
     "metadata": {},
     "output_type": "execute_result"
    }
   ],
   "source": [
    "np.info"
   ]
  },
  {
   "cell_type": "code",
   "execution_count": 133,
   "id": "c6b2ff96",
   "metadata": {},
   "outputs": [
    {
     "name": "stdout",
     "output_type": "stream",
     "text": [
      "[0. 0. 0. 0. 1. 0. 0. 0. 0. 0.]\n"
     ]
    }
   ],
   "source": [
    "a = np.zeros(10)\n",
    "a[4] = 1\n",
    "print(a)"
   ]
  },
  {
   "cell_type": "code",
   "execution_count": 134,
   "id": "62ab324d",
   "metadata": {},
   "outputs": [
    {
     "data": {
      "text/plain": [
       "array([10, 11, 12, 13, 14, 15, 16, 17, 18, 19, 20, 21, 22, 23, 24, 25, 26,\n",
       "       27, 28, 29, 30, 31, 32, 33, 34, 35, 36, 37, 38, 39, 40, 41, 42, 43,\n",
       "       44, 45, 46, 47, 48, 49])"
      ]
     },
     "execution_count": 134,
     "metadata": {},
     "output_type": "execute_result"
    }
   ],
   "source": [
    "np.arange(10,50)"
   ]
  },
  {
   "cell_type": "code",
   "execution_count": 135,
   "id": "90b586bc",
   "metadata": {},
   "outputs": [
    {
     "name": "stdout",
     "output_type": "stream",
     "text": [
      "[0 1 2 3 4 5 6 7 8 9]\n",
      "[9 8 7 6 5 4 3 2 1 0]\n"
     ]
    }
   ],
   "source": [
    "a = np.arange(10)\n",
    "print(a)\n",
    "a = a[::-1]\n",
    "print(a)"
   ]
  },
  {
   "cell_type": "code",
   "execution_count": 136,
   "id": "3ae6f5b3",
   "metadata": {},
   "outputs": [
    {
     "name": "stdout",
     "output_type": "stream",
     "text": [
      "[[0 1 2]\n",
      " [3 4 5]\n",
      " [6 7 8]]\n"
     ]
    }
   ],
   "source": [
    "a = np.arange(9).reshape(3,3)\n",
    "print(a)"
   ]
  },
  {
   "cell_type": "code",
   "execution_count": 137,
   "id": "73db69ab",
   "metadata": {},
   "outputs": [
    {
     "name": "stdout",
     "output_type": "stream",
     "text": [
      "[1 2 4 5]\n"
     ]
    }
   ],
   "source": [
    "a = np.array([1,2,0,4,0,5])\n",
    "print(a[np.nonzero(a)])"
   ]
  },
  {
   "cell_type": "code",
   "execution_count": 138,
   "id": "1b9e1175",
   "metadata": {},
   "outputs": [
    {
     "data": {
      "text/plain": [
       "array([[1., 0., 0.],\n",
       "       [0., 1., 0.],\n",
       "       [0., 0., 1.]])"
      ]
     },
     "execution_count": 138,
     "metadata": {},
     "output_type": "execute_result"
    }
   ],
   "source": [
    "np.eye(3)"
   ]
  },
  {
   "cell_type": "code",
   "execution_count": 139,
   "id": "13986c90",
   "metadata": {},
   "outputs": [
    {
     "data": {
      "text/plain": [
       "array([[[0.67717803, 0.00858825, 0.31503502],\n",
       "        [0.67580175, 0.07325578, 0.69497044],\n",
       "        [0.68990718, 0.48088098, 0.91657685]],\n",
       "\n",
       "       [[0.2055421 , 0.5493224 , 0.99997435],\n",
       "        [0.75879863, 0.12706771, 0.93982918],\n",
       "        [0.35410055, 0.76990667, 0.78115072]],\n",
       "\n",
       "       [[0.12672337, 0.91163985, 0.65841576],\n",
       "        [0.8201394 , 0.28021832, 0.95585441],\n",
       "        [0.9076998 , 0.6582698 , 0.44192419]]])"
      ]
     },
     "execution_count": 139,
     "metadata": {},
     "output_type": "execute_result"
    }
   ],
   "source": [
    "np.random.random((3,3,3))"
   ]
  },
  {
   "cell_type": "code",
   "execution_count": 140,
   "id": "22bb436f",
   "metadata": {},
   "outputs": [
    {
     "name": "stdout",
     "output_type": "stream",
     "text": [
      "[[0.59212019 0.56768023 0.0436473  0.62280259 0.60380576 0.92966828\n",
      "  0.07157926 0.5662716  0.04018216 0.36503257]\n",
      " [0.51728315 0.93048412 0.52014936 0.68079004 0.80109934 0.2739696\n",
      "  0.32086664 0.88197488 0.39175174 0.99947954]\n",
      " [0.21135515 0.99514145 0.11950334 0.17806239 0.17936157 0.37257207\n",
      "  0.92401127 0.28030118 0.67092817 0.18491742]\n",
      " [0.92647888 0.6753047  0.82122579 0.11498975 0.69931844 0.99914818\n",
      "  0.62632001 0.28887078 0.7564654  0.01192607]\n",
      " [0.64501856 0.28083785 0.6529236  0.87963556 0.6224341  0.62681544\n",
      "  0.38295379 0.4311561  0.88759808 0.05150424]\n",
      " [0.43760905 0.29920369 0.38575717 0.6827114  0.84127809 0.05681039\n",
      "  0.48191741 0.86847402 0.61931203 0.62795404]\n",
      " [0.88391865 0.38403867 0.05494364 0.05185159 0.68432955 0.9469573\n",
      "  0.5451798  0.43135226 0.62566753 0.9338695 ]\n",
      " [0.45773772 0.24565267 0.78428992 0.15648276 0.86298392 0.05819273\n",
      "  0.25801172 0.31551541 0.10064556 0.84747149]\n",
      " [0.04727657 0.70755519 0.00587621 0.99521193 0.04395679 0.2884602\n",
      "  0.14193745 0.9509669  0.7079691  0.69059327]\n",
      " [0.69390388 0.02190977 0.44448618 0.36525734 0.51926651 0.52903098\n",
      "  0.60167555 0.04374174 0.81725531 0.88164076]]\n",
      "0.005876213616627268\n",
      "0.9994795441685782\n"
     ]
    }
   ],
   "source": [
    "matrix = np.random.rand(10,10)\n",
    "print(matrix)\n",
    "print(matrix.min())\n",
    "print(matrix.max())"
   ]
  },
  {
   "cell_type": "markdown",
   "id": "22bbe43d",
   "metadata": {},
   "source": [
    "a = np.random.rand(30)"
   ]
  },
  {
   "cell_type": "code",
   "execution_count": 141,
   "id": "b1f02097",
   "metadata": {},
   "outputs": [
    {
     "name": "stdout",
     "output_type": "stream",
     "text": [
      "[0.64718971 0.46568582 0.14684723 0.24902019 0.47610352 0.78798216\n",
      " 0.5154668  0.50640705 0.10274798 0.66775583 0.53020952 0.81920396\n",
      " 0.26336247 0.77863157 0.70313679 0.31358399 0.11476875 0.13432595\n",
      " 0.67570795 0.77977733 0.11943706 0.20538503 0.42259315 0.98583385\n",
      " 0.85421046 0.80346838 0.57472153 0.71258585 0.55632576 0.61326907]\n"
     ]
    }
   ],
   "source": [
    "a = np.random.rand(30)\n",
    "print(a)"
   ]
  },
  {
   "cell_type": "code",
   "execution_count": 142,
   "id": "496d958d",
   "metadata": {},
   "outputs": [
    {
     "data": {
      "text/plain": [
       "0.517524823335197"
      ]
     },
     "execution_count": 142,
     "metadata": {},
     "output_type": "execute_result"
    }
   ],
   "source": [
    "a.mean()"
   ]
  },
  {
   "cell_type": "code",
   "execution_count": 143,
   "id": "0e6e119d",
   "metadata": {},
   "outputs": [
    {
     "name": "stdout",
     "output_type": "stream",
     "text": [
      "a\n"
     ]
    }
   ],
   "source": [
    "print(\"a\")"
   ]
  },
  {
   "cell_type": "code",
   "execution_count": 144,
   "id": "a4a76c0c",
   "metadata": {},
   "outputs": [
    {
     "name": "stdout",
     "output_type": "stream",
     "text": [
      "[[1. 1. 1. 1. 1. 1. 1. 1.]\n",
      " [1. 1. 1. 1. 1. 1. 1. 1.]\n",
      " [1. 1. 1. 1. 1. 1. 1. 1.]\n",
      " [1. 1. 1. 1. 1. 1. 1. 1.]\n",
      " [1. 1. 1. 1. 1. 1. 1. 1.]\n",
      " [1. 1. 1. 1. 1. 1. 1. 1.]\n",
      " [1. 1. 1. 1. 1. 1. 1. 1.]\n",
      " [1. 1. 1. 1. 1. 1. 1. 1.]]\n",
      "[[1. 1. 1. 1. 1. 1. 1. 1.]\n",
      " [1. 0. 0. 0. 0. 0. 0. 1.]\n",
      " [1. 0. 0. 0. 0. 0. 0. 1.]\n",
      " [1. 0. 0. 0. 0. 0. 0. 1.]\n",
      " [1. 0. 0. 0. 0. 0. 0. 1.]\n",
      " [1. 0. 0. 0. 0. 0. 0. 1.]\n",
      " [1. 0. 0. 0. 0. 0. 0. 1.]\n",
      " [1. 1. 1. 1. 1. 1. 1. 1.]]\n"
     ]
    }
   ],
   "source": [
    "a = np.ones((8,8))\n",
    "print(a)\n",
    "a[1:-1,1:-1] = 0\n",
    "print(a)"
   ]
  },
  {
   "cell_type": "code",
   "execution_count": 145,
   "id": "816a6f47",
   "metadata": {},
   "outputs": [
    {
     "name": "stdout",
     "output_type": "stream",
     "text": [
      "[[0. 0. 0. 0. 0. 0.]\n",
      " [0. 1. 1. 1. 1. 0.]\n",
      " [0. 1. 1. 1. 1. 0.]\n",
      " [0. 1. 1. 1. 1. 0.]\n",
      " [0. 1. 1. 1. 1. 0.]\n",
      " [0. 0. 0. 0. 0. 0.]]\n",
      "[[0. 1. 1. 0.]\n",
      " [0. 1. 1. 0.]\n",
      " [0. 1. 1. 0.]\n",
      " [0. 1. 1. 0.]]\n",
      "[[0. 0. 0. 0.]\n",
      " [0. 1. 1. 0.]\n",
      " [0. 1. 1. 0.]\n",
      " [0. 0. 0. 0.]]\n"
     ]
    }
   ],
   "source": [
    "a = np.ones((4,4))\n",
    "b = np.pad(a, pad_width = 1, mode = 'constant', constant_values = 0)\n",
    "print(b)\n",
    "a[:,[0,-1]] = 0\n",
    "print(a)\n",
    "a[[0,-1],:] = 0\n",
    "print(a)"
   ]
  },
  {
   "cell_type": "code",
   "execution_count": 146,
   "id": "9e63603c",
   "metadata": {},
   "outputs": [
    {
     "name": "stdout",
     "output_type": "stream",
     "text": [
      "nan\n",
      "False\n",
      "nan\n",
      "True\n",
      "False\n"
     ]
    }
   ],
   "source": [
    "0*np.nan\n",
    "print(0*np.nan)\n",
    "np.nan == np.nan\n",
    "print(np.nan == np.nan)\n",
    "np.nan - np.nan\n",
    "print(np.nan - np.nan)\n",
    "np.nan in set([np.nan])\n",
    "print(np.nan in set([np.nan]))\n",
    "0.3 == 3*0.1\n",
    "print(0.3 == 3*0.1)"
   ]
  },
  {
   "cell_type": "code",
   "execution_count": 147,
   "id": "278275f1",
   "metadata": {},
   "outputs": [
    {
     "name": "stdout",
     "output_type": "stream",
     "text": [
      "[[0 0 0 0 0]\n",
      " [1 0 0 0 0]\n",
      " [0 2 0 0 0]\n",
      " [0 0 3 0 0]\n",
      " [0 0 0 4 0]]\n"
     ]
    }
   ],
   "source": [
    "a = np.diag(1+np.arange(4), k = -1)\n",
    "print(a)"
   ]
  },
  {
   "cell_type": "code",
   "execution_count": 148,
   "id": "8df2c123",
   "metadata": {},
   "outputs": [
    {
     "name": "stdout",
     "output_type": "stream",
     "text": [
      "[[0 1 0 1 0 1 0 1]\n",
      " [1 0 1 0 1 0 1 0]\n",
      " [0 1 0 1 0 1 0 1]\n",
      " [1 0 1 0 1 0 1 0]\n",
      " [0 1 0 1 0 1 0 1]\n",
      " [1 0 1 0 1 0 1 0]\n",
      " [0 1 0 1 0 1 0 1]\n",
      " [1 0 1 0 1 0 1 0]]\n"
     ]
    }
   ],
   "source": [
    "a = np.zeros((8,8), dtype = int)\n",
    "a[1::2,::2] = 1\n",
    "a[::2,1::2] = 1\n",
    "print(a)"
   ]
  },
  {
   "cell_type": "code",
   "execution_count": 149,
   "id": "46ed9be0",
   "metadata": {},
   "outputs": [
    {
     "name": "stdout",
     "output_type": "stream",
     "text": [
      "(1, 5, 3)\n"
     ]
    }
   ],
   "source": [
    "print(np.unravel_index(99,(6,7,8)))"
   ]
  },
  {
   "cell_type": "code",
   "execution_count": 150,
   "id": "62f82de4",
   "metadata": {},
   "outputs": [
    {
     "name": "stdout",
     "output_type": "stream",
     "text": [
      "[[0 1 0 1 0 1 0 1]\n",
      " [1 0 1 0 1 0 1 0]\n",
      " [0 1 0 1 0 1 0 1]\n",
      " [1 0 1 0 1 0 1 0]\n",
      " [0 1 0 1 0 1 0 1]\n",
      " [1 0 1 0 1 0 1 0]\n",
      " [0 1 0 1 0 1 0 1]\n",
      " [1 0 1 0 1 0 1 0]]\n"
     ]
    }
   ],
   "source": [
    "a = np.tile(np.array([[0,1],[1,0]]),(4,4))\n",
    "print(a)"
   ]
  },
  {
   "cell_type": "code",
   "execution_count": 151,
   "id": "e65e62e5",
   "metadata": {},
   "outputs": [
    {
     "name": "stdout",
     "output_type": "stream",
     "text": [
      "[[-1.15758394  1.38215171 -0.149434    0.30751473 -1.52183903]\n",
      " [-0.06305215 -0.96749109  1.36279921  1.27682328 -1.46603793]\n",
      " [ 1.44372647  0.75862772 -1.0242088  -0.6065238   0.86851779]\n",
      " [ 0.0984005  -1.25933532 -0.97650577  0.24166165  0.71802405]\n",
      " [ 0.10354258 -1.49649231 -0.08995495  1.29632495  0.92034443]]\n"
     ]
    }
   ],
   "source": [
    "a = np.random.random((5,5))\n",
    "a = (a - np.mean(a)) / (np.std(a))\n",
    "print(a)"
   ]
  },
  {
   "cell_type": "code",
   "execution_count": 152,
   "id": "04c65428",
   "metadata": {},
   "outputs": [
    {
     "name": "stdout",
     "output_type": "stream",
     "text": [
      "[('r', 'u1'), ('g', 'u1'), ('b', 'u1'), ('a', 'u1')]\n"
     ]
    }
   ],
   "source": [
    "colour = np.dtype([(\"r\", np.ubyte),(\"g\", np.ubyte),(\"b\", np.ubyte),(\"a\", np.ubyte)])\n",
    "print(colour)"
   ]
  },
  {
   "cell_type": "code",
   "execution_count": 153,
   "id": "0e87c1f8",
   "metadata": {},
   "outputs": [
    {
     "name": "stdout",
     "output_type": "stream",
     "text": [
      "[[3. 3.]\n",
      " [3. 3.]\n",
      " [3. 3.]\n",
      " [3. 3.]\n",
      " [3. 3.]]\n",
      "[[3. 3.]\n",
      " [3. 3.]\n",
      " [3. 3.]\n",
      " [3. 3.]\n",
      " [3. 3.]]\n"
     ]
    }
   ],
   "source": [
    "a = np.dot(np.ones((5,3)),np.ones((3,2)))\n",
    "print(a)\n",
    "a = np.ones((5,3)) @ np.ones((3,2))\n",
    "print(a)"
   ]
  },
  {
   "cell_type": "code",
   "execution_count": 154,
   "id": "2be10c56",
   "metadata": {},
   "outputs": [
    {
     "name": "stdout",
     "output_type": "stream",
     "text": [
      "[ 0  1  2  3  4  5  6  7  8  9 10 11]\n",
      "[ 0  1  2  3 -4 -5 -6 -7  8  9 10 11]\n"
     ]
    }
   ],
   "source": [
    "a = np.arange(12)\n",
    "print(a)\n",
    "a[(3<a) & (a<8)] *= -1\n",
    "print(a)"
   ]
  },
  {
   "cell_type": "code",
   "execution_count": 155,
   "id": "68814f33",
   "metadata": {},
   "outputs": [
    {
     "name": "stdout",
     "output_type": "stream",
     "text": [
      "10\n",
      "10\n"
     ]
    }
   ],
   "source": [
    "print(sum(range(5),-1))\n",
    "from numpy import*\n",
    "print(sum(range(5),-1))"
   ]
  },
  {
   "cell_type": "code",
   "execution_count": 156,
   "id": "16abbf57",
   "metadata": {},
   "outputs": [
    {
     "name": "stdout",
     "output_type": "stream",
     "text": [
      "27\n",
      "4\n",
      "False\n",
      "3j\n",
      "3.0\n",
      "False\n"
     ]
    }
   ],
   "source": [
    "Z = 3\n",
    "Z**Z\n",
    "print(Z**Z)\n",
    "2 << Z >> 2\n",
    "print(2 << Z >> 2)\n",
    "Z <- Z\n",
    "print(Z <- Z)\n",
    "1j*Z\n",
    "print(1j*Z)\n",
    "Z/1/1\n",
    "print(Z/1/1)\n",
    "Z<Z>Z\n",
    "print(Z<Z>Z)"
   ]
  },
  {
   "cell_type": "code",
   "execution_count": 157,
   "id": "ae35336f",
   "metadata": {},
   "outputs": [
    {
     "name": "stdout",
     "output_type": "stream",
     "text": [
      "nan\n",
      "0\n",
      "[-2.14748365e+09]\n"
     ]
    }
   ],
   "source": [
    "print(np.array(0) / np.array(0))\n",
    "print(np.array(0) // np.array(0))\n",
    "print(np.array([np.nan]).astype(int).astype(float))"
   ]
  },
  {
   "cell_type": "code",
   "execution_count": 158,
   "id": "ef614f51",
   "metadata": {},
   "outputs": [
    {
     "name": "stdout",
     "output_type": "stream",
     "text": [
      "[-8.16075969 -2.21914815  8.79685222  1.39636799  8.93247429  2.88449232\n",
      "  6.37987958 -2.910286    8.59412317 -5.40445249]\n",
      "[-9. -3.  9.  2.  9.  3.  7. -3.  9. -6.]\n",
      "[-9. -3.  9.  2.  9.  3.  7. -3.  9. -6.]\n"
     ]
    }
   ],
   "source": [
    "Z = np.random.uniform(-10,+10,10)\n",
    "print(Z)\n",
    "print(np.copysign(np.ceil(np.abs(Z)), Z))\n",
    "print(np.where(Z>0, np.ceil(Z), np.floor(Z)))"
   ]
  },
  {
   "cell_type": "code",
   "execution_count": 159,
   "id": "f5681c67",
   "metadata": {},
   "outputs": [
    {
     "name": "stdout",
     "output_type": "stream",
     "text": [
      "[6 9 7 6 2 9 3 9 0 3]\n",
      "[6 7 9 5 3 5 8 4 4 6]\n",
      "[3 6 7 9]\n"
     ]
    }
   ],
   "source": [
    "Z1 = np.random.randint(0,10,10)\n",
    "print(Z1)\n",
    "Z2 = np.random.randint(0,10,10)\n",
    "print(Z2)\n",
    "print(np.intersect1d(Z1,Z2))"
   ]
  },
  {
   "cell_type": "code",
   "execution_count": 160,
   "id": "f3c56595",
   "metadata": {},
   "outputs": [
    {
     "name": "stdout",
     "output_type": "stream",
     "text": [
      "[1.]\n"
     ]
    },
    {
     "ename": "KeyError",
     "evalue": "'defaults'",
     "output_type": "error",
     "traceback": [
      "\u001b[1;31m---------------------------------------------------------------------------\u001b[0m",
      "\u001b[1;31mKeyError\u001b[0m                                  Traceback (most recent call last)",
      "\u001b[1;32m<ipython-input-160-8120baef7f72>\u001b[0m in \u001b[0;36m<module>\u001b[1;34m\u001b[0m\n\u001b[0;32m      1\u001b[0m \u001b[0mdefaults\u001b[0m \u001b[1;33m=\u001b[0m \u001b[0mnp\u001b[0m\u001b[1;33m.\u001b[0m\u001b[0mseterr\u001b[0m\u001b[1;33m(\u001b[0m\u001b[0mall\u001b[0m \u001b[1;33m=\u001b[0m \u001b[1;34m\"ignore\"\u001b[0m\u001b[1;33m)\u001b[0m\u001b[1;33m\u001b[0m\u001b[1;33m\u001b[0m\u001b[0m\n\u001b[0;32m      2\u001b[0m \u001b[0mprint\u001b[0m\u001b[1;33m(\u001b[0m\u001b[0mnp\u001b[0m\u001b[1;33m.\u001b[0m\u001b[0mones\u001b[0m\u001b[1;33m(\u001b[0m\u001b[1;36m1\u001b[0m\u001b[1;33m)\u001b[0m\u001b[1;33m/\u001b[0m\u001b[1;36m1\u001b[0m\u001b[1;33m)\u001b[0m\u001b[1;33m\u001b[0m\u001b[1;33m\u001b[0m\u001b[0m\n\u001b[1;32m----> 3\u001b[1;33m \u001b[0m_\u001b[0m\u001b[1;33m=\u001b[0m \u001b[0mnp\u001b[0m\u001b[1;33m.\u001b[0m\u001b[0mseterr\u001b[0m\u001b[1;33m(\u001b[0m\u001b[1;34m\"defaults\"\u001b[0m\u001b[1;33m)\u001b[0m\u001b[1;33m\u001b[0m\u001b[1;33m\u001b[0m\u001b[0m\n\u001b[0m",
      "\u001b[1;32m~\\anaconda3\\lib\\site-packages\\numpy\\core\\_ufunc_config.py\u001b[0m in \u001b[0;36mseterr\u001b[1;34m(all, divide, over, under, invalid)\u001b[0m\n\u001b[0;32m    120\u001b[0m         \u001b[0minvalid\u001b[0m \u001b[1;33m=\u001b[0m \u001b[0mall\u001b[0m \u001b[1;32mor\u001b[0m \u001b[0mold\u001b[0m\u001b[1;33m[\u001b[0m\u001b[1;34m'invalid'\u001b[0m\u001b[1;33m]\u001b[0m\u001b[1;33m\u001b[0m\u001b[1;33m\u001b[0m\u001b[0m\n\u001b[0;32m    121\u001b[0m \u001b[1;33m\u001b[0m\u001b[0m\n\u001b[1;32m--> 122\u001b[1;33m     maskvalue = ((_errdict[divide] << SHIFT_DIVIDEBYZERO) +\n\u001b[0m\u001b[0;32m    123\u001b[0m                  \u001b[1;33m(\u001b[0m\u001b[0m_errdict\u001b[0m\u001b[1;33m[\u001b[0m\u001b[0mover\u001b[0m\u001b[1;33m]\u001b[0m \u001b[1;33m<<\u001b[0m \u001b[0mSHIFT_OVERFLOW\u001b[0m\u001b[1;33m)\u001b[0m \u001b[1;33m+\u001b[0m\u001b[1;33m\u001b[0m\u001b[1;33m\u001b[0m\u001b[0m\n\u001b[0;32m    124\u001b[0m                  \u001b[1;33m(\u001b[0m\u001b[0m_errdict\u001b[0m\u001b[1;33m[\u001b[0m\u001b[0munder\u001b[0m\u001b[1;33m]\u001b[0m \u001b[1;33m<<\u001b[0m \u001b[0mSHIFT_UNDERFLOW\u001b[0m\u001b[1;33m)\u001b[0m \u001b[1;33m+\u001b[0m\u001b[1;33m\u001b[0m\u001b[1;33m\u001b[0m\u001b[0m\n",
      "\u001b[1;31mKeyError\u001b[0m: 'defaults'"
     ]
    }
   ],
   "source": [
    "defaults = np.seterr(all = \"ignore\")\n",
    "print(np.ones(1)/1)\n",
    "_= np.seterr(\"defaults\")"
   ]
  },
  {
   "cell_type": "code",
   "execution_count": null,
   "id": "9bbabd11",
   "metadata": {},
   "outputs": [],
   "source": [
    "np.sqrt(-1) == np.emath.sqrt(-1)"
   ]
  },
  {
   "cell_type": "code",
   "execution_count": null,
   "id": "7e61153f",
   "metadata": {},
   "outputs": [],
   "source": [
    "yesterday = np.datetime64('today') - np.timedelta64(1)\n",
    "print(yesterday)\n",
    "today = np.datetime64('today')\n",
    "print(today)\n",
    "tomorrow = np.datetime64('today') + np.timedelta64(1)\n",
    "print(tomorrow)"
   ]
  },
  {
   "cell_type": "code",
   "execution_count": null,
   "id": "785fd150",
   "metadata": {},
   "outputs": [],
   "source": [
    "b = np.arange('2021-06','2021-07',dtype='datetime64[D]')\n",
    "print(b)"
   ]
  },
  {
   "cell_type": "code",
   "execution_count": null,
   "id": "9f0d71f8",
   "metadata": {},
   "outputs": [],
   "source": [
    "a = np.ones(4)*1\n",
    "b = np.ones(4)*3\n",
    "print(a)\n",
    "print(b)\n",
    "np.add(a,b,out=b)\n",
    "print(b)\n",
    "np.divide(a,2,out=a)\n",
    "print(a)\n",
    "np.negative(a,out=a)\n",
    "print(a)\n",
    "np.multiply(a,b,out=a)\n",
    "print(a)"
   ]
  },
  {
   "cell_type": "code",
   "execution_count": null,
   "id": "5dab869b",
   "metadata": {},
   "outputs": [],
   "source": [
    "a = np.random.uniform(2,8,5)\n",
    "print(a)\n",
    "print(a -a%1)\n",
    "print(a // 1)\n",
    "print(a.astype(int))\n",
    "print(np.trunc(a))"
   ]
  },
  {
   "cell_type": "code",
   "execution_count": null,
   "id": "72d0a9c1",
   "metadata": {},
   "outputs": [],
   "source": [
    "a = np.zeros((5,5))\n",
    "a += np.arange(5)\n",
    "print(a)\n",
    "a = np.tile(np.arange(5),(5,1))\n",
    "print(a)"
   ]
  },
  {
   "cell_type": "code",
   "execution_count": null,
   "id": "46a2c360",
   "metadata": {},
   "outputs": [],
   "source": [
    "def formation_fun():\n",
    "    for x in arange(10):\n",
    "        yield x\n",
    "a = np.fromiter(formation_fun(),dtype=int,count=-1)\n",
    "print(a)"
   ]
  },
  {
   "cell_type": "code",
   "execution_count": null,
   "id": "1edb9546",
   "metadata": {},
   "outputs": [],
   "source": [
    "a = np.linspace(0,1,11,endpoint = False)[1:]\n",
    "print(a)"
   ]
  },
  {
   "cell_type": "code",
   "execution_count": null,
   "id": "6a56401d",
   "metadata": {},
   "outputs": [],
   "source": [
    "a = np.random.random(10)\n",
    "print(a)\n",
    "a.sort()\n",
    "print(a)"
   ]
  },
  {
   "cell_type": "code",
   "execution_count": 4,
   "id": "9615ed7b",
   "metadata": {},
   "outputs": [
    {
     "data": {
      "text/plain": [
       "66"
      ]
     },
     "execution_count": 4,
     "metadata": {},
     "output_type": "execute_result"
    }
   ],
   "source": [
    "a = np.arange(12)\n",
    "np.add.reduce(a)"
   ]
  },
  {
   "cell_type": "code",
   "execution_count": 8,
   "id": "d659bf0c",
   "metadata": {},
   "outputs": [
    {
     "name": "stdout",
     "output_type": "stream",
     "text": [
      "True\n",
      "True\n"
     ]
    }
   ],
   "source": [
    "a = np.random.randint(4,5,8)\n",
    "b = np.random.randint(4,5,8)\n",
    "equal = np.allclose(a,b)\n",
    "print(equal)\n",
    "equal = np.array_equal(a,b)\n",
    "print(equal)"
   ]
  },
  {
   "cell_type": "code",
   "execution_count": 15,
   "id": "65f50212",
   "metadata": {},
   "outputs": [
    {
     "name": "stdout",
     "output_type": "stream",
     "text": [
      "[1. 1. 1. 1. 1. 1. 1. 1. 1. 1.]\n"
     ]
    }
   ],
   "source": [
    "a = np.ones(10)\n",
    "print(a)\n",
    "a.flags.writeable = False"
   ]
  },
  {
   "cell_type": "code",
   "execution_count": 20,
   "id": "36cb8650",
   "metadata": {},
   "outputs": [
    {
     "name": "stdout",
     "output_type": "stream",
     "text": [
      "[[0.21952949 0.23424723]\n",
      " [0.31306901 0.30392019]\n",
      " [0.56104419 0.56683651]\n",
      " [0.19602015 0.75719057]\n",
      " [0.60360425 0.91584309]\n",
      " [0.38408639 0.51373665]\n",
      " [0.32719949 0.90734311]\n",
      " [0.35935454 0.09148485]]\n",
      "[0.21952949 0.31306901 0.56104419 0.19602015 0.60360425 0.38408639\n",
      " 0.32719949 0.35935454]\n",
      "[0.23424723 0.30392019 0.56683651 0.75719057 0.91584309 0.51373665\n",
      " 0.90734311 0.09148485]\n",
      "[0.32103732 0.43632521 0.79754261 0.78215182 1.09686219 0.64144189\n",
      " 0.96453669 0.37081688]\n",
      "[0.81782068 0.77057109 0.79053369 1.31747931 0.98807176 0.92881192\n",
      " 1.2246984  0.24928556]\n"
     ]
    }
   ],
   "source": [
    "a = np.random.random((8,2))\n",
    "print(a)\n",
    "b = a[:,0]\n",
    "c = a[:,1]\n",
    "print(b)\n",
    "print(c)\n",
    "d = np.sqrt(b**2 + c**2)\n",
    "print(d)\n",
    "e = np.arctan2(c,b)\n",
    "print(e)"
   ]
  },
  {
   "cell_type": "code",
   "execution_count": 24,
   "id": "a784a858",
   "metadata": {},
   "outputs": [
    {
     "name": "stdout",
     "output_type": "stream",
     "text": [
      "[ 2 19 16 19 12 11  9 14  8 14  5  6]\n",
      "[ 2  0 16 19 12 11  9 14  8 14  5  6]\n"
     ]
    }
   ],
   "source": [
    "a = np.random.randint(2,20,12)\n",
    "print(a)\n",
    "a[a.argmax()] = 0\n",
    "print(a)"
   ]
  },
  {
   "cell_type": "code",
   "execution_count": 34,
   "id": "765392d3",
   "metadata": {},
   "outputs": [
    {
     "name": "stdout",
     "output_type": "stream",
     "text": [
      "[[(0., 0.) (0., 0.) (0., 0.) (0., 0.) (0., 0.)]\n",
      " [(0., 0.) (0., 0.) (0., 0.) (0., 0.) (0., 0.)]\n",
      " [(0., 0.) (0., 0.) (0., 0.) (0., 0.) (0., 0.)]\n",
      " [(0., 0.) (0., 0.) (0., 0.) (0., 0.) (0., 0.)]\n",
      " [(0., 0.) (0., 0.) (0., 0.) (0., 0.) (0., 0.)]]\n",
      "[[(0. , 0.) (0.5, 0.) (1. , 0.) (1.5, 0.) (2. , 0.)]\n",
      " [(0. , 0.) (0.5, 0.) (1. , 0.) (1.5, 0.) (2. , 0.)]\n",
      " [(0. , 0.) (0.5, 0.) (1. , 0.) (1.5, 0.) (2. , 0.)]\n",
      " [(0. , 0.) (0.5, 0.) (1. , 0.) (1.5, 0.) (2. , 0.)]\n",
      " [(0. , 0.) (0.5, 0.) (1. , 0.) (1.5, 0.) (2. , 0.)]]\n",
      "[[(0. , 0. ) (0.5, 0.5) (1. , 1. ) (1.5, 1.5) (2. , 2. )]\n",
      " [(0. , 0. ) (0.5, 0.5) (1. , 1. ) (1.5, 1.5) (2. , 2. )]\n",
      " [(0. , 0. ) (0.5, 0.5) (1. , 1. ) (1.5, 1.5) (2. , 2. )]\n",
      " [(0. , 0. ) (0.5, 0.5) (1. , 1. ) (1.5, 1.5) (2. , 2. )]\n",
      " [(0. , 0. ) (0.5, 0.5) (1. , 1. ) (1.5, 1.5) (2. , 2. )]]\n"
     ]
    }
   ],
   "source": [
    "a = np.zeros((5,5), [('b',float),('c',float)])\n",
    "print(a)\n",
    "a['b'] = np.meshgrid(np.linspace(0,2,5))\n",
    "print(a)\n",
    "a['c'] = np.meshgrid(np.linspace(0,2,5))\n",
    "print(a)"
   ]
  },
  {
   "cell_type": "code",
   "execution_count": 40,
   "id": "c13aaf35",
   "metadata": {},
   "outputs": [
    {
     "name": "stdout",
     "output_type": "stream",
     "text": [
      "[0 1 2 3 4 5 6 7 8 9]\n",
      "[0.5 1.5 2.5 3.5 4.5 5.5 6.5 7.5 8.5 9.5]\n",
      "[[-0.5 -1.5 -2.5 -3.5 -4.5 -5.5 -6.5 -7.5 -8.5 -9.5]\n",
      " [ 0.5 -0.5 -1.5 -2.5 -3.5 -4.5 -5.5 -6.5 -7.5 -8.5]\n",
      " [ 1.5  0.5 -0.5 -1.5 -2.5 -3.5 -4.5 -5.5 -6.5 -7.5]\n",
      " [ 2.5  1.5  0.5 -0.5 -1.5 -2.5 -3.5 -4.5 -5.5 -6.5]\n",
      " [ 3.5  2.5  1.5  0.5 -0.5 -1.5 -2.5 -3.5 -4.5 -5.5]\n",
      " [ 4.5  3.5  2.5  1.5  0.5 -0.5 -1.5 -2.5 -3.5 -4.5]\n",
      " [ 5.5  4.5  3.5  2.5  1.5  0.5 -0.5 -1.5 -2.5 -3.5]\n",
      " [ 6.5  5.5  4.5  3.5  2.5  1.5  0.5 -0.5 -1.5 -2.5]\n",
      " [ 7.5  6.5  5.5  4.5  3.5  2.5  1.5  0.5 -0.5 -1.5]\n",
      " [ 8.5  7.5  6.5  5.5  4.5  3.5  2.5  1.5  0.5 -0.5]]\n",
      "[[-2.         -0.66666667 -0.4        -0.28571429 -0.22222222 -0.18181818\n",
      "  -0.15384615 -0.13333333 -0.11764706 -0.10526316]\n",
      " [ 2.         -2.         -0.66666667 -0.4        -0.28571429 -0.22222222\n",
      "  -0.18181818 -0.15384615 -0.13333333 -0.11764706]\n",
      " [ 0.66666667  2.         -2.         -0.66666667 -0.4        -0.28571429\n",
      "  -0.22222222 -0.18181818 -0.15384615 -0.13333333]\n",
      " [ 0.4         0.66666667  2.         -2.         -0.66666667 -0.4\n",
      "  -0.28571429 -0.22222222 -0.18181818 -0.15384615]\n",
      " [ 0.28571429  0.4         0.66666667  2.         -2.         -0.66666667\n",
      "  -0.4        -0.28571429 -0.22222222 -0.18181818]\n",
      " [ 0.22222222  0.28571429  0.4         0.66666667  2.         -2.\n",
      "  -0.66666667 -0.4        -0.28571429 -0.22222222]\n",
      " [ 0.18181818  0.22222222  0.28571429  0.4         0.66666667  2.\n",
      "  -2.         -0.66666667 -0.4        -0.28571429]\n",
      " [ 0.15384615  0.18181818  0.22222222  0.28571429  0.4         0.66666667\n",
      "   2.         -2.         -0.66666667 -0.4       ]\n",
      " [ 0.13333333  0.15384615  0.18181818  0.22222222  0.28571429  0.4\n",
      "   0.66666667  2.         -2.         -0.66666667]\n",
      " [ 0.11764706  0.13333333  0.15384615  0.18181818  0.22222222  0.28571429\n",
      "   0.4         0.66666667  2.         -2.        ]]\n",
      "33961.93294480225\n"
     ]
    }
   ],
   "source": [
    "a = np.arange(10)\n",
    "print(a)\n",
    "b = a + 0.5\n",
    "print(b)\n",
    "print(np.subtract.outer(a,b))\n",
    "c = 1.0/np.subtract.outer(a,b)\n",
    "print(c)\n",
    "print(np.linalg.det(c))"
   ]
  },
  {
   "cell_type": "code",
   "execution_count": 42,
   "id": "683b59f0",
   "metadata": {},
   "outputs": [
    {
     "name": "stdout",
     "output_type": "stream",
     "text": [
      "-128\n",
      "127\n",
      "-2147483648\n",
      "2147483647\n",
      "-9223372036854775808\n",
      "9223372036854775807\n",
      "-3.4028235e+38\n",
      "3.4028235e+38\n",
      "1.1920929e-07\n",
      "-1.7976931348623157e+308\n",
      "1.7976931348623157e+308\n",
      "2.220446049250313e-16\n"
     ]
    }
   ],
   "source": [
    "for dtype in [np.int8, np.int32, np.int64]:\n",
    "   print(np.iinfo(dtype).min)\n",
    "   print(np.iinfo(dtype).max)\n",
    "for dtype in [np.float32, np.float64]:\n",
    "   print(np.finfo(dtype).min)\n",
    "   print(np.finfo(dtype).max)\n",
    "   print(np.finfo(dtype).eps)"
   ]
  },
  {
   "cell_type": "code",
   "execution_count": null,
   "id": "06cc47b1",
   "metadata": {},
   "outputs": [],
   "source": []
  }
 ],
 "metadata": {
  "kernelspec": {
   "display_name": "Python 3",
   "language": "python",
   "name": "python3"
  },
  "language_info": {
   "codemirror_mode": {
    "name": "ipython",
    "version": 3
   },
   "file_extension": ".py",
   "mimetype": "text/x-python",
   "name": "python",
   "nbconvert_exporter": "python",
   "pygments_lexer": "ipython3",
   "version": "3.8.8"
  }
 },
 "nbformat": 4,
 "nbformat_minor": 5
}
